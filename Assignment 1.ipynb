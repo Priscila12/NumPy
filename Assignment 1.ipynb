{
  "nbformat": 4,
  "nbformat_minor": 0,
  "metadata": {
    "colab": {
      "name": "Priscila Tamang - Linspace.ipynb",
      "provenance": [],
      "collapsed_sections": []
    },
    "kernelspec": {
      "name": "python3",
      "display_name": "Python 3"
    }
  },
  "cells": [
    {
      "cell_type": "code",
      "metadata": {
        "id": "buxZCO5wnDnN",
        "colab_type": "code",
        "outputId": "21226c09-c061-41d5-863a-ab84fe19f08d",
        "colab": {
          "base_uri": "https://localhost:8080/",
          "height": 187
        }
      },
      "source": [
        " # Function to create numpy linspace\n",
        "def linspacefunction(l, h, n) :\n",
        "    hl = h - l\n",
        "    diff = hl / (n - 1)\n",
        "    ans = []\n",
        "    for i in range(n) :\n",
        "        ans.append(l)\n",
        "        l = l + diff\n",
        "    return ans\n",
        "\n",
        "linspacefunction(10,30,10)"
      ],
      "execution_count": 0,
      "outputs": [
        {
          "output_type": "execute_result",
          "data": {
            "text/plain": [
              "[10,\n",
              " 12.222222222222221,\n",
              " 14.444444444444443,\n",
              " 16.666666666666664,\n",
              " 18.888888888888886,\n",
              " 21.111111111111107,\n",
              " 23.33333333333333,\n",
              " 25.55555555555555,\n",
              " 27.77777777777777,\n",
              " 29.999999999999993]"
            ]
          },
          "metadata": {
            "tags": []
          },
          "execution_count": 1
        }
      ]
    },
    {
      "cell_type": "code",
      "metadata": {
        "id": "x_OOpgMboKbp",
        "colab_type": "code",
        "colab": {}
      },
      "source": [
        ""
      ],
      "execution_count": 0,
      "outputs": []
    }
  ]
}